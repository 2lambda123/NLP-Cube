{
  "nbformat": 4,
  "nbformat_minor": 0,
  "metadata": {
    "colab": {
      "name": "cube-simple-example.ipynb",
      "version": "0.3.2",
      "provenance": []
    },
    "kernelspec": {
      "name": "python3",
      "display_name": "Python 3"
    }
  },
  "cells": [
    {
      "metadata": {
        "id": "Gc7GgjfyW7R2",
        "colab_type": "code",
        "colab": {
          "base_uri": "https://localhost:8080/",
          "height": 663
        },
        "outputId": "9da1f6ef-0b58-4943-cc1e-50b2071e39af"
      },
      "cell_type": "code",
      "source": [
        "!pip3 install nlpcube==0.0.9.9"
      ],
      "execution_count": 1,
      "outputs": [
        {
          "output_type": "stream",
          "text": [
            "Collecting nlpcube==0.0.9.9\n",
            "\u001b[?25l  Downloading https://files.pythonhosted.org/packages/eb/7e/c44a5f355a42a3792bcb5d1593f46a19b0fa52ec784f999486ac88f16963/nlpcube-0.0.9.9-py3-none-any.whl (100kB)\n",
            "\u001b[K    100% |████████████████████████████████| 102kB 4.5MB/s \n",
            "\u001b[?25hCollecting xmltodict==0.11.0 (from nlpcube==0.0.9.9)\n",
            "  Downloading https://files.pythonhosted.org/packages/42/a9/7e99652c6bc619d19d58cdd8c47560730eb5825d43a7e25db2e1d776ceb7/xmltodict-0.11.0-py2.py3-none-any.whl\n",
            "Collecting Cython>=0.28.1 (from nlpcube==0.0.9.9)\n",
            "\u001b[?25l  Downloading https://files.pythonhosted.org/packages/19/8e/32b280abb0947a96cdbb8329fb2014851a21fc1d099009f946ea8a8202c3/Cython-0.28.5-cp36-cp36m-manylinux1_x86_64.whl (3.4MB)\n",
            "\u001b[K    100% |████████████████████████████████| 3.4MB 1.0MB/s \n",
            "\u001b[?25hRequirement already satisfied: nltk>=3.2.5 in /usr/local/lib/python3.6/dist-packages (from nlpcube==0.0.9.9) (3.2.5)\n",
            "Collecting nose2==0.7.3 (from nlpcube==0.0.9.9)\n",
            "\u001b[?25l  Downloading https://files.pythonhosted.org/packages/44/5d/2a13cf17edcff04f8c1ac3e5bd250bcfb36d257c53399a1f5fbbbf6cd334/nose2-0.7.3.tar.gz (139kB)\n",
            "\u001b[K    100% |████████████████████████████████| 143kB 22.9MB/s \n",
            "\u001b[?25hRequirement already satisfied: requests>=2.18.4 in /usr/local/lib/python3.6/dist-packages (from nlpcube==0.0.9.9) (2.18.4)\n",
            "Requirement already satisfied: future>=0.16.0 in /usr/local/lib/python3.6/dist-packages (from nlpcube==0.0.9.9) (0.16.0)\n",
            "Collecting dyNET>=2.0.3 (from nlpcube==0.0.9.9)\n",
            "\u001b[?25l  Downloading https://files.pythonhosted.org/packages/88/f0/01a561a301a8ea9aea1c28f82e108c38cd103964c7a46286ab01757a4092/dyNET-2.1-cp36-cp36m-manylinux1_x86_64.whl (28.1MB)\n",
            "\u001b[K    100% |████████████████████████████████| 28.1MB 1.4MB/s \n",
            "\u001b[?25hCollecting scipy>=1.0.0 (from nlpcube==0.0.9.9)\n",
            "\u001b[?25l  Downloading https://files.pythonhosted.org/packages/a8/0b/f163da98d3a01b3e0ef1cab8dd2123c34aee2bafbb1c5bffa354cc8a1730/scipy-1.1.0-cp36-cp36m-manylinux1_x86_64.whl (31.2MB)\n",
            "\u001b[K    100% |████████████████████████████████| 31.2MB 1.5MB/s \n",
            "\u001b[?25hRequirement already satisfied: six in /usr/local/lib/python3.6/dist-packages (from nltk>=3.2.5->nlpcube==0.0.9.9) (1.11.0)\n",
            "Collecting coverage>=4.4.1 (from nose2==0.7.3->nlpcube==0.0.9.9)\n",
            "\u001b[?25l  Downloading https://files.pythonhosted.org/packages/3d/a0/b12090c40e0b8196b973962ec71c1c541a6c04af58ba5ad85683b3de251a/coverage-4.5.1-cp36-cp36m-manylinux1_x86_64.whl (202kB)\n",
            "\u001b[K    100% |████████████████████████████████| 204kB 20.5MB/s \n",
            "\u001b[?25hRequirement already satisfied: chardet<3.1.0,>=3.0.2 in /usr/local/lib/python3.6/dist-packages (from requests>=2.18.4->nlpcube==0.0.9.9) (3.0.4)\n",
            "Requirement already satisfied: certifi>=2017.4.17 in /usr/local/lib/python3.6/dist-packages (from requests>=2.18.4->nlpcube==0.0.9.9) (2018.8.24)\n",
            "Requirement already satisfied: urllib3<1.23,>=1.21.1 in /usr/local/lib/python3.6/dist-packages (from requests>=2.18.4->nlpcube==0.0.9.9) (1.22)\n",
            "Requirement already satisfied: idna<2.7,>=2.5 in /usr/local/lib/python3.6/dist-packages (from requests>=2.18.4->nlpcube==0.0.9.9) (2.6)\n",
            "Requirement already satisfied: numpy in /usr/local/lib/python3.6/dist-packages (from dyNET>=2.0.3->nlpcube==0.0.9.9) (1.14.5)\n",
            "Building wheels for collected packages: nose2\n",
            "  Running setup.py bdist_wheel for nose2 ... \u001b[?25l-\b \b\\\b \b|\b \bdone\n",
            "\u001b[?25h  Stored in directory: /root/.cache/pip/wheels/0d/0f/df/1279c45a41bb9053200496dae1c56a8e36288a9afec2f95811\n",
            "Successfully built nose2\n",
            "Installing collected packages: xmltodict, Cython, coverage, nose2, dyNET, scipy, nlpcube\n",
            "  Found existing installation: scipy 0.19.1\n",
            "    Uninstalling scipy-0.19.1:\n",
            "      Successfully uninstalled scipy-0.19.1\n",
            "Successfully installed Cython-0.28.5 coverage-4.5.1 dyNET-2.1 nlpcube-0.0.9.9 nose2-0.7.3 scipy-1.1.0 xmltodict-0.11.0\n"
          ],
          "name": "stdout"
        }
      ]
    },
    {
      "metadata": {
        "id": "t-AgZEVNW9Sv",
        "colab_type": "code",
        "colab": {}
      },
      "cell_type": "code",
      "source": [
        "from cube.api import Cube\n",
        "\n",
        "cube=Cube(verbose=True)"
      ],
      "execution_count": 0,
      "outputs": []
    },
    {
      "metadata": {
        "id": "M99mLVvAXUlb",
        "colab_type": "code",
        "colab": {}
      },
      "cell_type": "code",
      "source": [
        "cube.load(\"en\")"
      ],
      "execution_count": 0,
      "outputs": []
    },
    {
      "metadata": {
        "id": "a1gsnXZbdj_G",
        "colab_type": "code",
        "colab": {
          "base_uri": "https://localhost:8080/",
          "height": 680
        },
        "outputId": "c11f2828-1540-4dac-e79f-a4c51932d00e"
      },
      "cell_type": "code",
      "source": [
        "text=\"NLPCube is an opensource Natural Language Processing Framework that supports more than 60 languages. It is easy to install and use and can be used to build custom models based on 3rd-party corpora.\"\n",
        "\n",
        "sequences=cube(text)\n",
        "\n",
        "for sequence in sequences:\n",
        "  for entry in sequence:\n",
        "    print(str(entry.index)+\"\\t\"+entry.word+\"\\t\"+entry.lemma+\"\\t\"+entry.upos+\"\\t\"+entry.xpos+\"\\t\"+entry.attrs+\"\\t\"+str(entry.head)+\"\\t\"+str(entry.label)+\"\\t\"+entry.space_after)\n",
        "  print(\"\")\n",
        "    "
      ],
      "execution_count": 5,
      "outputs": [
        {
          "output_type": "stream",
          "text": [
            "1\tNLPCube\tNLPCube\tPROPN\tNNP\tNumber=Sing\t8\tnsubj\t_\n",
            "2\tis\tbe\tAUX\tVBZ\tMood=Ind|Number=Sing|Person=3|Tense=Pres|VerbForm=Fin\t8\tcop\t_\n",
            "3\tan\ta\tDET\tDT\tDefinite=Ind|PronType=Art\t8\tdet\t_\n",
            "4\topensource\topensource\tNOUN\tNN\tNumber=Sing\t8\tamod\t_\n",
            "5\tNatural\tnatural\tADJ\tJJ\tDegree=Pos\t6\tamod\t_\n",
            "6\tLanguage\tlanguage\tNOUN\tNN\tNumber=Sing\t8\tcompound\t_\n",
            "7\tProcessing\tprocessing\tNOUN\tNN\tNumber=Sing\t8\tcompound\t_\n",
            "8\tFramework\tframework\tNOUN\tNN\tNumber=Sing\t0\troot\t_\n",
            "9\tthat\tthat\tPRON\tWDT\tPronType=Rel\t10\tnsubj\t_\n",
            "10\tsupports\tsupport\tVERB\tVBZ\tMood=Ind|Number=Sing|Person=3|Tense=Pres|VerbForm=Fin\t8\tacl:relcl\t_\n",
            "11\tmore\tmore\tADJ\tJJR\tDegree=Cmp\t13\tadvmod\t_\n",
            "12\tthan\tthan\tADP\tIN\t_\t11\tfixed\t_\n",
            "13\t60\t60\tNUM\tCD\tNumType=Card\t14\tnummod\t_\n",
            "14\tlanguages\tlanguage\tNOUN\tNNS\tNumber=Plur\t10\tobj\tSpaceAfter=No\n",
            "15\t.\t.\tPUNCT\t.\t_\t8\tpunct\t_\n",
            "\n",
            "1\tIt\tit\tPRON\tPRP\tCase=Nom|Gender=Neut|Number=Sing|Person=3|PronType=Prs\t3\texpl\t_\n",
            "2\tis\tbe\tAUX\tVBZ\tMood=Ind|Number=Sing|Person=3|Tense=Pres|VerbForm=Fin\t3\tcop\t_\n",
            "3\teasy\teasy\tADJ\tJJ\tDegree=Pos\t0\troot\t_\n",
            "4\tto\tto\tPART\tTO\t_\t5\tmark\t_\n",
            "5\tinstall\tinstall\tVERB\tVB\tVerbForm=Inf\t3\tcsubj\t_\n",
            "6\tand\tand\tCCONJ\tCC\t_\t7\tcc\t_\n",
            "7\tuse\tuse\tVERB\tVB\tVerbForm=Inf\t5\tconj\t_\n",
            "8\tand\tand\tCCONJ\tCC\t_\t11\tcc\t_\n",
            "9\tcan\tcan\tAUX\tMD\tVerbForm=Fin\t11\taux\t_\n",
            "10\tbe\tbe\tVERB\tVB\tVerbForm=Inf\t11\taux:pass\t_\n",
            "11\tused\tuse\tVERB\tVBN\tTense=Past|VerbForm=Part|Voice=Pass\t3\tconj\t_\n",
            "12\tto\tto\tPART\tTO\t_\t13\tmark\t_\n",
            "13\tbuild\tbuild\tVERB\tVB\tVerbForm=Inf\t11\txcomp\t_\n",
            "14\tcustom\tcustom\tADJ\tJJ\tDegree=Pos\t15\tamod\t_\n",
            "15\tmodels\tmodel\tNOUN\tNNS\tNumber=Plur\t13\tobj\t_\n",
            "16\tbased\tbase\tVERB\tVBN\tTense=Past|VerbForm=Part\t21\tcase\t_\n",
            "17\ton\ton\tADP\tIN\t_\t21\tcase\t_\n",
            "18\t3rd\t3rd\tADJ\tJJ\tDegree=Pos|NumType=Ord\t20\tnummod\tSpaceAfter=No\n",
            "19\t-\t-\tPUNCT\tHYPH\t_\t20\tpunct\tSpaceAfter=No\n",
            "20\tparty\tparty\tNOUN\tNN\tNumber=Sing\t21\tcompound\t_\n",
            "21\tcorpora\tcorpora\tNOUN\tNNS\tNumber=Plur\t13\tobl\tSpaceAfter=No\n",
            "22\t.\t.\tPUNCT\t.\t_\t3\tpunct\tSpaceAfter=No\n",
            "\n"
          ],
          "name": "stdout"
        }
      ]
    },
    {
      "metadata": {
        "id": "OopcPVWatXeh",
        "colab_type": "code",
        "colab": {}
      },
      "cell_type": "code",
      "source": [
        ""
      ],
      "execution_count": 0,
      "outputs": []
    }
  ]
}