{
  "nbformat": 4,
  "nbformat_minor": 0,
  "metadata": {
    "colab": {
      "name": "cube-simple-example.ipynb",
      "version": "0.3.2",
      "provenance": []
    },
    "kernelspec": {
      "name": "python3",
      "display_name": "Python 3"
    }
  },
  "cells": [
    {
      "metadata": {
        "id": "Gc7GgjfyW7R2",
        "colab_type": "code",
        "colab": {
          "base_uri": "https://localhost:8080/",
          "height": 663
        },
        "outputId": "54f58e31-b80c-4c6a-9efd-37c9c46990ea"
      },
      "cell_type": "code",
      "source": [
        "!pip3 install nlpcube==0.0.9.9"
      ],
      "execution_count": 1,
      "outputs": [
        {
          "output_type": "stream",
          "text": [
            "Collecting nlpcube==0.0.9.9\n",
            "\u001b[?25l  Downloading https://files.pythonhosted.org/packages/eb/7e/c44a5f355a42a3792bcb5d1593f46a19b0fa52ec784f999486ac88f16963/nlpcube-0.0.9.9-py3-none-any.whl (100kB)\n",
            "\u001b[K    100% |████████████████████████████████| 102kB 2.6MB/s \n",
            "\u001b[?25hCollecting Cython>=0.28.1 (from nlpcube==0.0.9.9)\n",
            "\u001b[?25l  Downloading https://files.pythonhosted.org/packages/19/8e/32b280abb0947a96cdbb8329fb2014851a21fc1d099009f946ea8a8202c3/Cython-0.28.5-cp36-cp36m-manylinux1_x86_64.whl (3.4MB)\n",
            "\u001b[K    100% |████████████████████████████████| 3.4MB 6.3MB/s \n",
            "\u001b[?25hCollecting xmltodict==0.11.0 (from nlpcube==0.0.9.9)\n",
            "  Downloading https://files.pythonhosted.org/packages/42/a9/7e99652c6bc619d19d58cdd8c47560730eb5825d43a7e25db2e1d776ceb7/xmltodict-0.11.0-py2.py3-none-any.whl\n",
            "Collecting nose2==0.7.3 (from nlpcube==0.0.9.9)\n",
            "\u001b[?25l  Downloading https://files.pythonhosted.org/packages/44/5d/2a13cf17edcff04f8c1ac3e5bd250bcfb36d257c53399a1f5fbbbf6cd334/nose2-0.7.3.tar.gz (139kB)\n",
            "\u001b[K    100% |████████████████████████████████| 143kB 13.0MB/s \n",
            "\u001b[?25hRequirement already satisfied: requests>=2.18.4 in /usr/local/lib/python3.6/dist-packages (from nlpcube==0.0.9.9) (2.18.4)\n",
            "Collecting scipy>=1.0.0 (from nlpcube==0.0.9.9)\n",
            "\u001b[?25l  Downloading https://files.pythonhosted.org/packages/a8/0b/f163da98d3a01b3e0ef1cab8dd2123c34aee2bafbb1c5bffa354cc8a1730/scipy-1.1.0-cp36-cp36m-manylinux1_x86_64.whl (31.2MB)\n",
            "\u001b[K    100% |████████████████████████████████| 31.2MB 1.0MB/s \n",
            "\u001b[?25hRequirement already satisfied: future>=0.16.0 in /usr/local/lib/python3.6/dist-packages (from nlpcube==0.0.9.9) (0.16.0)\n",
            "Requirement already satisfied: nltk>=3.2.5 in /usr/local/lib/python3.6/dist-packages (from nlpcube==0.0.9.9) (3.2.5)\n",
            "Collecting dyNET>=2.0.3 (from nlpcube==0.0.9.9)\n",
            "\u001b[?25l  Downloading https://files.pythonhosted.org/packages/88/f0/01a561a301a8ea9aea1c28f82e108c38cd103964c7a46286ab01757a4092/dyNET-2.1-cp36-cp36m-manylinux1_x86_64.whl (28.1MB)\n",
            "\u001b[K    100% |████████████████████████████████| 28.1MB 1.4MB/s \n",
            "\u001b[?25hRequirement already satisfied: six>=1.7 in /usr/local/lib/python3.6/dist-packages (from nose2==0.7.3->nlpcube==0.0.9.9) (1.11.0)\n",
            "Collecting coverage>=4.4.1 (from nose2==0.7.3->nlpcube==0.0.9.9)\n",
            "\u001b[?25l  Downloading https://files.pythonhosted.org/packages/3d/a0/b12090c40e0b8196b973962ec71c1c541a6c04af58ba5ad85683b3de251a/coverage-4.5.1-cp36-cp36m-manylinux1_x86_64.whl (202kB)\n",
            "\u001b[K    100% |████████████████████████████████| 204kB 20.5MB/s \n",
            "\u001b[?25hRequirement already satisfied: idna<2.7,>=2.5 in /usr/local/lib/python3.6/dist-packages (from requests>=2.18.4->nlpcube==0.0.9.9) (2.6)\n",
            "Requirement already satisfied: certifi>=2017.4.17 in /usr/local/lib/python3.6/dist-packages (from requests>=2.18.4->nlpcube==0.0.9.9) (2018.8.24)\n",
            "Requirement already satisfied: chardet<3.1.0,>=3.0.2 in /usr/local/lib/python3.6/dist-packages (from requests>=2.18.4->nlpcube==0.0.9.9) (3.0.4)\n",
            "Requirement already satisfied: urllib3<1.23,>=1.21.1 in /usr/local/lib/python3.6/dist-packages (from requests>=2.18.4->nlpcube==0.0.9.9) (1.22)\n",
            "Requirement already satisfied: numpy>=1.8.2 in /usr/local/lib/python3.6/dist-packages (from scipy>=1.0.0->nlpcube==0.0.9.9) (1.14.5)\n",
            "Building wheels for collected packages: nose2\n",
            "  Running setup.py bdist_wheel for nose2 ... \u001b[?25l-\b \b\\\b \b|\b \bdone\n",
            "\u001b[?25h  Stored in directory: /root/.cache/pip/wheels/0d/0f/df/1279c45a41bb9053200496dae1c56a8e36288a9afec2f95811\n",
            "Successfully built nose2\n",
            "Installing collected packages: Cython, xmltodict, coverage, nose2, scipy, dyNET, nlpcube\n",
            "  Found existing installation: scipy 0.19.1\n",
            "    Uninstalling scipy-0.19.1:\n",
            "      Successfully uninstalled scipy-0.19.1\n",
            "Successfully installed Cython-0.28.5 coverage-4.5.1 dyNET-2.1 nlpcube-0.0.9.9 nose2-0.7.3 scipy-1.1.0 xmltodict-0.11.0\n"
          ],
          "name": "stdout"
        }
      ]
    },
    {
      "metadata": {
        "id": "t-AgZEVNW9Sv",
        "colab_type": "code",
        "colab": {}
      },
      "cell_type": "code",
      "source": [
        "from cube.api import Cube\n",
        "\n",
        "cube=Cube(verbose=True)"
      ],
      "execution_count": 0,
      "outputs": []
    },
    {
      "metadata": {
        "id": "M99mLVvAXUlb",
        "colab_type": "code",
        "colab": {
          "base_uri": "https://localhost:8080/",
          "height": 221
        },
        "outputId": "4d8ff4e1-989f-4904-f813-dc38eed46ca3"
      },
      "cell_type": "code",
      "source": [
        "cube.load(\"en\")"
      ],
      "execution_count": 3,
      "outputs": [
        {
          "output_type": "stream",
          "text": [
            "Latest version found online: en-1.0\n",
            "Download complete, decompressing files ...                                         \n",
            "Model downloaded successfully.\n",
            "Checking for associated vector embeddings file [wiki.en.vec] ...\n",
            "Embeddings downloaded successfully.                                                  \n",
            "\tLoading embeddings... \n",
            "\tLoading tokenization model ...\n",
            "\tLoading lemmatization model ...\n",
            "\tLoading tagger model ...\n",
            "\tLoading parser model ...\n",
            "Model loading complete.\n",
            "\n"
          ],
          "name": "stdout"
        }
      ]
    },
    {
      "metadata": {
        "id": "a1gsnXZbdj_G",
        "colab_type": "code",
        "colab": {
          "base_uri": "https://localhost:8080/",
          "height": 340
        },
        "outputId": "338d4315-fec5-4df5-e421-1e4a9cb60184"
      },
      "cell_type": "code",
      "source": [
        "text=\"All the faith he had had, had had no effect on the outcome of his life.\"\n",
        "\n",
        "sequences=cube(text)\n",
        "\n",
        "for sequence in sequences:\n",
        "  for entry in sequence:\n",
        "    print(str(entry.index)+\"\\t\"+entry.word+\"\\t\"+entry.lemma+\"\\t\"+entry.upos+\"\\t\"+entry.xpos+\"\\t\"+entry.attrs+\"\\t\"+str(entry.head)+\"\\t\"+str(entry.label)+\"\\t\"+entry.space_after)\n",
        "  print(\"\")\n",
        "    "
      ],
      "execution_count": 4,
      "outputs": [
        {
          "output_type": "stream",
          "text": [
            "1\tAll\tall\tPUNCT\tPDT\t_\t3\tdet:predet\t_\n",
            "2\tthe\tthe\tDET\tDT\tDefinite=Def|PronType=Art\t3\tdet\t_\n",
            "3\tfaith\tfaith\tNOUN\tNN\tNumber=Sing\t9\tnsubj\t_\n",
            "4\the\the\tPRON\tPRP\tCase=Nom|Gender=Masc|Number=Sing|Person=3|PronType=Prs\t6\tnsubj\t_\n",
            "5\thad\thave\tAUX\tVBD\tMood=Ind|Tense=Past|VerbForm=Fin\t6\taux\t_\n",
            "6\thad\thave\tVERB\tVBN\tTense=Past|VerbForm=Part\t3\tacl:relcl\tSpaceAfter=No\n",
            "7\t,\t,\tPUNCT\t,\t_\t9\tpunct\t_\n",
            "8\thad\thave\tVERB\tVBD\tMood=Ind|Tense=Past|VerbForm=Fin\t9\taux\t_\n",
            "9\thad\thave\tVERB\tVBN\tTense=Past|VerbForm=Part\t0\troot\t_\n",
            "10\tno\tno\tDET\tDT\t_\t11\tdet\t_\n",
            "11\teffect\teffect\tNOUN\tNN\tNumber=Sing\t9\tobj\t_\n",
            "12\ton\ton\tADP\tIN\t_\t14\tcase\t_\n",
            "13\tthe\tthe\tDET\tDT\tDefinite=Def|PronType=Art\t14\tdet\t_\n",
            "14\toutcome\toutcome\tNOUN\tNN\tNumber=Sing\t11\tnmod\t_\n",
            "15\tof\tof\tADP\tIN\t_\t17\tcase\t_\n",
            "16\this\the\tPRON\tPRP$\tGender=Masc|Number=Sing|Person=3|Poss=Yes|PronType=Prs\t17\tnmod:poss\t_\n",
            "17\tlife\tlife\tNOUN\tNN\tNumber=Sing\t14\tnmod\tSpaceAfter=No\n",
            "18\t.\t.\tPUNCT\t.\t_\t9\tpunct\tSpaceAfter=No\n",
            "\n"
          ],
          "name": "stdout"
        }
      ]
    },
    {
      "metadata": {
        "id": "OopcPVWatXeh",
        "colab_type": "code",
        "colab": {}
      },
      "cell_type": "code",
      "source": [
        ""
      ],
      "execution_count": 0,
      "outputs": []
    }
  ]
}